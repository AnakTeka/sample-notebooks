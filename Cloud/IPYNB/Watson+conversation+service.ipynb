{
 "cells": [
  {
   "cell_type": "markdown",
   "metadata": {},
   "source": [
    "# Programmatic Evaluation of Watson Conversation Intent Recognition Performance\n",
    "\n",
    "This notebook demonstrates a technique to programmatically train and evaluate the intent recognition performance for a workspace in <a href=\"https://www.ibm.com/watson/developercloud/conversation/api/v1/\" target=\"_blank\" rel=\"noopener noreferrer\">Watson Conversation</a>.\n",
    "\n",
    "At a high level, intents are purposes or goals expressed in a user's input, such as answering a question or processing a bill payment. By recognizing the intent expressed in a customer's input, the Conversation service can choose the correct dialog flow for responding to it.\n",
    "\n",
    "This notebook will demonstrate how the Watson Conversation API can be directly accessed to programmatically train the workspace on intents. This is an alternative to the GUI tool typically used to train a workspace.\n",
    "\n",
    "By managing the training process programmatically, the intent recognition performance can be reliably tested with a truly blind test set.\n",
    "\n",
    "This notebook runs on Python 3.5 with Spark 2.0 or 2.1.\n",
    "\n",
    "\n"
   ]
  },
  {
   "cell_type": "markdown",
   "metadata": {},
   "source": [
    "## Table of contents\n",
    "\n",
    "1. [Install and import packages](#setup)\n",
    "2. [Import the data as a pandas DataFrame](#import)\n",
    "3. [Split the data set for training and testing](#scikit)\n",
    "4. [Authenticate to the Watson Conversation Service](#authenticate)\n",
    "5. [Test the connection to the Watson Conversation service](#wcs1)\n",
    "6. [Create unique intents from the training data](#wcs2)\n",
    "7. [Add examples to each intent from the training data set](#wcs3)\n",
    "8. [Evaluate the test set with the message function](#wcs4)<br>\n",
    "[Summary and next steps](#Summary-and-next-steps)"
   ]
  },
  {
   "cell_type": "markdown",
   "metadata": {},
   "source": [
    "## <a id=\"setup\"></a> Step 1. Install and import packages\n",
    "\n",
    "Install and import the necessary packages."
   ]
  },
  {
   "cell_type": "code",
   "execution_count": 1,
   "metadata": {},
   "outputs": [
    {
     "name": "stdout",
     "output_type": "stream",
     "text": [
      "Requirement already up-to-date: watson-developer-cloud in /gpfs/global_fs01/sym_shared/YPProdSpark/user/sc3e-53554f95eddadf-4e28db014a7c/.local/lib/python3.5/site-packages\n",
      "Requirement already up-to-date: pysolr<4.0,>=3.3 in /gpfs/global_fs01/sym_shared/YPProdSpark/user/sc3e-53554f95eddadf-4e28db014a7c/.local/lib/python3.5/site-packages (from watson-developer-cloud)\n",
      "Requirement already up-to-date: requests<3.0,>=2.0 in /gpfs/global_fs01/sym_shared/YPProdSpark/user/sc3e-53554f95eddadf-4e28db014a7c/.local/lib/python3.5/site-packages (from watson-developer-cloud)\n",
      "Requirement already up-to-date: pyOpenSSL>=16.2.0 in /gpfs/global_fs01/sym_shared/YPProdSpark/user/sc3e-53554f95eddadf-4e28db014a7c/.local/lib/python3.5/site-packages (from watson-developer-cloud)\n",
      "Requirement already up-to-date: urllib3<1.23,>=1.21.1 in /gpfs/global_fs01/sym_shared/YPProdSpark/user/sc3e-53554f95eddadf-4e28db014a7c/.local/lib/python3.5/site-packages (from requests<3.0,>=2.0->watson-developer-cloud)\n",
      "Requirement already up-to-date: chardet<3.1.0,>=3.0.2 in /gpfs/global_fs01/sym_shared/YPProdSpark/user/sc3e-53554f95eddadf-4e28db014a7c/.local/lib/python3.5/site-packages (from requests<3.0,>=2.0->watson-developer-cloud)\n",
      "Requirement already up-to-date: certifi>=2017.4.17 in /gpfs/global_fs01/sym_shared/YPProdSpark/user/sc3e-53554f95eddadf-4e28db014a7c/.local/lib/python3.5/site-packages (from requests<3.0,>=2.0->watson-developer-cloud)\n",
      "Requirement already up-to-date: idna<2.7,>=2.5 in /gpfs/global_fs01/sym_shared/YPProdSpark/user/sc3e-53554f95eddadf-4e28db014a7c/.local/lib/python3.5/site-packages (from requests<3.0,>=2.0->watson-developer-cloud)\n",
      "Requirement already up-to-date: six>=1.5.2 in /usr/local/src/conda3_runtime.v16/4.1.1/lib/python3.5/site-packages (from pyOpenSSL>=16.2.0->watson-developer-cloud)\n",
      "Requirement already up-to-date: cryptography>=1.9 in /gpfs/global_fs01/sym_shared/YPProdSpark/user/sc3e-53554f95eddadf-4e28db014a7c/.local/lib/python3.5/site-packages (from pyOpenSSL>=16.2.0->watson-developer-cloud)\n",
      "Requirement already up-to-date: asn1crypto>=0.21.0 in /gpfs/global_fs01/sym_shared/YPProdSpark/user/sc3e-53554f95eddadf-4e28db014a7c/.local/lib/python3.5/site-packages (from cryptography>=1.9->pyOpenSSL>=16.2.0->watson-developer-cloud)\n",
      "Requirement already up-to-date: cffi>=1.7 in /gpfs/global_fs01/sym_shared/YPProdSpark/user/sc3e-53554f95eddadf-4e28db014a7c/.local/lib/python3.5/site-packages (from cryptography>=1.9->pyOpenSSL>=16.2.0->watson-developer-cloud)\n",
      "Requirement already up-to-date: pycparser in /gpfs/global_fs01/sym_shared/YPProdSpark/user/sc3e-53554f95eddadf-4e28db014a7c/.local/lib/python3.5/site-packages (from cffi>=1.7->cryptography>=1.9->pyOpenSSL>=16.2.0->watson-developer-cloud)\n"
     ]
    }
   ],
   "source": [
    "!pip install --upgrade watson-developer-cloud"
   ]
  },
  {
   "cell_type": "code",
   "execution_count": 2,
   "metadata": {},
   "outputs": [
    {
     "name": "stdout",
     "output_type": "stream",
     "text": [
      "Collecting sklearn\n",
      "  Downloading sklearn-0.0.tar.gz\n",
      "Requirement already up-to-date: scikit-learn in /gpfs/global_fs01/sym_shared/YPProdSpark/user/sc3e-53554f95eddadf-4e28db014a7c/.local/lib/python3.5/site-packages (from sklearn)\n",
      "Building wheels for collected packages: sklearn\n",
      "  Running setup.py bdist_wheel for sklearn ... \u001b[?25ldone\n",
      "\u001b[?25h  Stored in directory: /gpfs/fs01/user/sc3e-53554f95eddadf-4e28db014a7c/.cache/pip/wheels/d7/db/a3/1b8041ab0be63b5c96c503df8e757cf205c2848cf9ef55f85e\n",
      "Successfully built sklearn\n",
      "Installing collected packages: sklearn\n",
      "Successfully installed sklearn-0.0\n"
     ]
    }
   ],
   "source": [
    "!pip install sklearn --upgrade"
   ]
  },
  {
   "cell_type": "code",
   "execution_count": 3,
   "metadata": {
    "collapsed": true
   },
   "outputs": [],
   "source": [
    "import pandas as pd\n",
    "import numpy as np\n",
    "from bokeh.charts import Histogram, output_file, show\n",
    "import random\n",
    "import pandas as pd\n",
    "import numpy as np\n",
    "from sklearn.model_selection import train_test_split"
   ]
  },
  {
   "cell_type": "markdown",
   "metadata": {},
   "source": [
    "## <a id=\"import\"></a>Step 2. Import the data as a pandas DataFrame\n",
    "\n",
    "The data consists of sample user questions and the assigned intents. \n",
    "\n",
    "**For notebooks running on IBM Data Science Experience:**\n",
    "\n",
    "To get the data and load it into a pandas DataFrame:\n",
    "\n",
    "1. Go to the [Watson Conversation intents data card](https://apsportal.ibm.com/exchange/public/entry/view/3460a7906f329ea1523b6a0455c53757) and click the download icon to save the file on your computer.\n",
    "1. Back in your notebook, load the file by clicking the **Find and Add Data** icon and then dragging and dropping the file onto the pane or browsing for the file. The data is stored in the object storage container that is associated with your project.\n",
    "1. Click in the next cell and then choose **Insert to code > Insert Pandas DataFrame** from below the file name and then run the cell.\n",
    "\n",
    "**For Python notebook servers**\n",
    "1. Uncomment and modify the code stub to load data from your server's filesystem. "
   ]
  },
  {
   "cell_type": "code",
   "execution_count": 1,
   "metadata": {
    "collapsed": true
   },
   "outputs": [],
   "source": [
    "# Insert your WCS intent examples as a pandas dataframe here\n",
    "# data should be imported to a variable with a name like df_data_1.\n",
    "\n",
    "# Uncomment and modify only if you are not using the IBM Data Science Experience\n",
    "# df_data_1 = pd.read_csv('YOUR FILE')\n",
    "# df_data_1.head()\n"
   ]
  },
  {
   "cell_type": "markdown",
   "metadata": {},
   "source": [
    "Rename the DataFrame to `df`:"
   ]
  },
  {
   "cell_type": "code",
   "execution_count": 5,
   "metadata": {
    "collapsed": true
   },
   "outputs": [],
   "source": [
    "# Make sure this uses the variable above. The number will vary in the inserted code.\n",
    "try:\n",
    "    df = df_data_1\n",
    "except NameError as e:\n",
    "    print('Error: Setup is incorrect or incomplete.\\n')\n",
    "    print('Follow the instructions to insert the pandas DataFrame above, and edit to')\n",
    "    print('make the generated df_data_# variable match the variable used here.')\n",
    "    raise"
   ]
  },
  {
   "cell_type": "markdown",
   "metadata": {},
   "source": [
    "## <a id=\"scikit\"></a>Step 3. Split the data set for training and testing \n",
    "Using Scikit Learn, split the data set into two separate sets, one for training and one for testing. The size of the testing data set is set to 20% of the original data set, but you can change the percentage if you like."
   ]
  },
  {
   "cell_type": "code",
   "execution_count": 6,
   "metadata": {
    "collapsed": true
   },
   "outputs": [],
   "source": [
    "train, test = train_test_split(df, test_size = 0.2)"
   ]
  },
  {
   "cell_type": "markdown",
   "metadata": {},
   "source": [
    "## <a id=\"authenticate\"></a>Step 4. Authenticate to the Watson Conversation service\n",
    "\n",
    "Sign up for the Watson Conversation service and enter your credentials. \n",
    "\n",
    "1. Sign up for [Watson Conversation service](https://console.bluemix.net/catalog/services/conversation) in Bluemix.\n",
    "1. On your Watson Conversation service page, click **Launch Tool**. The Workspaces page appears in a separate tab.\n",
    "1. On your Watson Conversation Workspaces page, click **Create**. \n",
    "1. Add a name, for example, `Intents example`, and click **Create**.\n",
    "1. Find your workspace ID and credentials by clicking the **Deploy** button and then **Credentials**. \n",
    "1. Add your workspace ID, username, and password to the next cell and run the cell."
   ]
  },
  {
   "cell_type": "code",
   "execution_count": 7,
   "metadata": {
    "collapsed": true
   },
   "outputs": [],
   "source": [
    "CONVERSATION_USERNAME = ''\n",
    "CONVERSATION_PASSWORD = ''\n",
    "VERSION = ''\n",
    "WORKSPACE_ID = ''"
   ]
  },
  {
   "cell_type": "markdown",
   "metadata": {},
   "source": [
    "Import the Watson Conversation package and set variables:"
   ]
  },
  {
   "cell_type": "code",
   "execution_count": 8,
   "metadata": {
    "collapsed": true
   },
   "outputs": [],
   "source": [
    "import json\n",
    "from watson_developer_cloud import ConversationV1\n",
    "conversation = ConversationV1(\n",
    "    username=CONVERSATION_USERNAME,\n",
    "    password=CONVERSATION_PASSWORD,\n",
    "    version= VERSION\n",
    ")"
   ]
  },
  {
   "cell_type": "markdown",
   "metadata": {},
   "source": [
    "## <a id=\"wcs1\"></a>Step 5. Test the connection to the Watson Conversation service\n",
    "Run the <a href=\"https://www.ibm.com/watson/developercloud/conversation/api/v1/\" target=\"_blank\" rel=\"noopener noreferrer\">Watson Conversation API</a> functions to make sure you are properly connected to your Watson Conversation Workspace.\n",
    "\n",
    "List the existing intents with the `list_intents` function. If this is the first time you're using the Watson Conversation service, you won't have any intents."
   ]
  },
  {
   "cell_type": "code",
   "execution_count": 9,
   "metadata": {},
   "outputs": [
    {
     "name": "stdout",
     "output_type": "stream",
     "text": [
      "{\n",
      "  \"pagination\": {\n",
      "    \"refresh_url\": \"/v1/workspaces/dd596e58-5941-4860-ae87-52bcf3649dcc/intents?version=2017-05-26\"\n",
      "  },\n",
      "  \"intents\": [\n",
      "    {\n",
      "      \"created\": \"2017-08-23T15:58:25.882Z\",\n",
      "      \"updated\": \"2017-08-23T16:00:52.937Z\",\n",
      "      \"intent\": \"capabilities\",\n",
      "      \"description\": \"capabilities\"\n",
      "    },\n",
      "    {\n",
      "      \"created\": \"2017-08-23T15:58:26.176Z\",\n",
      "      \"updated\": \"2017-08-23T16:00:32.312Z\",\n",
      "      \"intent\": \"interface_issues\",\n",
      "      \"description\": \"interface_issues\"\n",
      "    },\n",
      "    {\n",
      "      \"created\": \"2017-08-23T15:58:26.032Z\",\n",
      "      \"updated\": \"2017-08-23T16:00:53.082Z\",\n",
      "      \"intent\": \"locate_amenity\",\n",
      "      \"description\": \"locate_amenity\"\n",
      "    }\n",
      "  ]\n",
      "}\n"
     ]
    }
   ],
   "source": [
    "intents = conversation.list_intents(WORKSPACE_ID)\n",
    "print(json.dumps(intents, indent=2))"
   ]
  },
  {
   "cell_type": "markdown",
   "metadata": {},
   "source": [
    "Create a sample intent with the `create_intent` function:"
   ]
  },
  {
   "cell_type": "code",
   "execution_count": 10,
   "metadata": {
    "scrolled": false
   },
   "outputs": [
    {
     "name": "stdout",
     "output_type": "stream",
     "text": [
      "{\n",
      "  \"created\": \"2017-08-25T22:12:27.766Z\",\n",
      "  \"updated\": \"2017-08-25T22:12:27.766Z\",\n",
      "  \"intent\": \"sample\",\n",
      "  \"description\": \"This is an example\"\n",
      "}\n"
     ]
    }
   ],
   "source": [
    "create = conversation.create_intent(WORKSPACE_ID,'sample','This is an example')\n",
    "print(json.dumps(create, indent=2))\n"
   ]
  },
  {
   "cell_type": "markdown",
   "metadata": {},
   "source": [
    "Now delete all intents with the `delete_intent` function:"
   ]
  },
  {
   "cell_type": "code",
   "execution_count": 11,
   "metadata": {
    "collapsed": true
   },
   "outputs": [],
   "source": [
    "#Clear the workspace of all existing intents\n",
    "intents = conversation.list_intents(workspace_id=WORKSPACE_ID)['intents']\n",
    "for intent in intents:\n",
    "    conversation.delete_intent(workspace_id=WORKSPACE_ID, intent=intent['intent'])"
   ]
  },
  {
   "cell_type": "markdown",
   "metadata": {},
   "source": [
    "## <a id=\"wcs2\"></a>Step 6. Create unique intents from the training data\n",
    "\n",
    "Use the values from the `intent` column in the training data set to create intents: `locate_amenity`, `capabilities`, and `interface_issues`."
   ]
  },
  {
   "cell_type": "code",
   "execution_count": 12,
   "metadata": {
    "collapsed": true
   },
   "outputs": [],
   "source": [
    "for intent in set([x for x in train['intent']]):\n",
    "    conversation.create_intent(workspace_id=WORKSPACE_ID, intent=intent, description=intent)"
   ]
  },
  {
   "cell_type": "markdown",
   "metadata": {},
   "source": [
    "## <a id=\"wcs3\"></a>Step 7. Add examples to each intent from the training data set\n",
    "Add example text from the training data set for each intent so that the Watson Conversation service can learn what sorts of questions to assign to each intent."
   ]
  },
  {
   "cell_type": "code",
   "execution_count": 13,
   "metadata": {
    "collapsed": true
   },
   "outputs": [],
   "source": [
    "for training_data in [x[1] for x in train[:].iterrows()]:\n",
    "    conversation.create_example(workspace_id=WORKSPACE_ID, intent=training_data.intent, text=training_data.example)"
   ]
  },
  {
   "cell_type": "markdown",
   "metadata": {},
   "source": [
    "## <a id=\"wcs4\"></a>Step 8. Evaluate the test set with the message function\n",
    "Now test how accurately the Watson Conversation service can assign intents to the examples in the testing data set. By using the `message` function from the <a href=\"https://www.ibm.com/watson/developercloud/conversation/api/v1/\" target=\"_blank\" rel=\"noopener noreferrer\">Watson Conversation API</a>, you can test all examples at once, instead of examining each example individually with the Conversation Workspace tool."
   ]
  },
  {
   "cell_type": "code",
   "execution_count": 14,
   "metadata": {},
   "outputs": [
    {
     "name": "stdout",
     "output_type": "stream",
     "text": [
      "Intent Recognizer Performance: 84.57%\n"
     ]
    }
   ],
   "source": [
    "results = []\n",
    "for test_data in [x[1] for x in test[:].iterrows()]:\n",
    "    try:\n",
    "        results.append(1 if conversation.message(workspace_id=WORKSPACE_ID, message_input={\"text\": test_data.example})['intents'][0]['intent'] == test_data.intent else 0)\n",
    "    except:\n",
    "        results.append(0)\n",
    "results = np.array(results)\n",
    "\n",
    "print(\"Intent Recognizer Performance: {:.2%}\".format(np.sum(results) / results.size))"
   ]
  },
  {
   "cell_type": "markdown",
   "metadata": {},
   "source": [
    "## Summary and next steps\n",
    "You've learned how to use the Watson Conversation API to train and evaluate the service. Try adding your own user questions and intents data and see how Watson does!\n",
    "\n",
    "Learn more:\n",
    "- <a href=\"https://www.ibm.com/watson/developercloud/conversation/api/v1/\" target=\"_blank\" rel=\"noopener noreferrer\">Watson Conversation API reference</a>\n",
    "- <a href=\"https://github.com/watson-developer-cloud/python-sdk\" target=\"_blank\" rel=\"noopener noreferrer\">Watson Conversation Python SDK</a>\n",
    "\n",
    "### Authors\n",
    "Paul Thoresen & Tyler Andersen from the Watson Accelerators Team."
   ]
  },
  {
   "cell_type": "markdown",
   "metadata": {},
   "source": [
    "Copyright &copy; IBM Corp. 2017. This notebook and its source code are released under the terms of the MIT License."
   ]
  }
 ],
 "metadata": {
  "anaconda-cloud": {},
  "kernelspec": {
   "display_name": "Python 3.5 (Experimental) with Spark 2.0",
   "language": "python",
   "name": "python3-spark20"
  },
  "language_info": {
   "codemirror_mode": {
    "name": "ipython",
    "version": 3
   },
   "file_extension": ".py",
   "mimetype": "text/x-python",
   "name": "python",
   "nbconvert_exporter": "python",
   "pygments_lexer": "ipython3",
   "version": "3.5.2"
  }
 },
 "nbformat": 4,
 "nbformat_minor": 1
}
