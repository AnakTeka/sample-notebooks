{
 "cells": [
  {
   "cell_type": "markdown",
   "metadata": {},
   "source": [
    "# Access dashDB and DB2 with Python\n",
    "\n",
    "This notebook shows how to access a dashDB data warehouse or DB2 database when using Python. The examples use a dashDB warehouse, but the instructions apply to both dashDB and DB2.\n",
    "\n",
    "## Table of contents\n",
    "\n",
    "1. [Setup](#Setup) \n",
    "1. [Import the *ibmdbpy* Python library](#Import-the-ibmdbpy-Python-library)\n",
    "1. [Identify and enter the database connection credentials](#Identify-and-enter-the-database-connection-credentials)\n",
    "1. [Create the database connection](#Create-the-database-connection)\n",
    "1. [Use dataframe to read and manipulate tables](#Use-dataframe-to-read-and-manipulate-tables)\n",
    "1. [Close the database connection](#Close-the-database-connection)\n",
    "1. [Summary](#Summary)\n",
    "\n",
    "\n",
    "## Setup\n",
    "\n",
    "Before beginning you will need a *dashDB* warehouse. dashDB is a fully managed cloud data warehouse, purpose-built for analytics. It offers massively parallel processing (MPP) scale and compatibility with a wide range of business intelligence (BI) tools.  \n",
    "\n",
    "[Try dashDB free of charge on IBM Bluemix.](https://console.ng.bluemix.net/catalog/services/dashdb)\n",
    "\n",
    "<a class=\"ibm-tooltip\" href=\"https://console.ng.bluemix.net/catalog/services/dashdb\" target=\"_blank\" title=\"\" id=\"ibm-tooltip-0\">\n",
    "<img alt=\"IBM Bluemix.Get started now\" height=\"193\" width=\"153\" src=\"https://ibm.box.com/shared/static/42yt39czuksqdi278xpy96txtlw3lfmb.png\" >\n",
    "</a>\n",
    "\n",
    "\n",
    "\n",
    "\n",
    "\n",
    "## Import the *ibmdbpy* Python library\n",
    "\n",
    "Python support for dashDB and DB2 is provided by the [ibmdbpy Python library](https://pypi.python.org/pypi/ibmdbpy). Connecting to dashDB or DB2 is also enabled by a DB2 driver, libdb2.so.\n",
    "\n",
    "The JDBC Connection is based on a Java virtual machine. From the ibmdbpy library you can use JDBC to connect to a remote dashDB/DB2 instance. To be able to use JDBC to connect, we need to import the *JayDeBeApi* package.\n",
    "\n",
    "Run the following commands to install and load the JayDeBeApi package and the ibmdbpy library into your notebook:"
   ]
  },
  {
   "cell_type": "code",
   "execution_count": 1,
   "metadata": {
    "collapsed": false
   },
   "outputs": [
    {
     "name": "stdout",
     "output_type": "stream",
     "text": [
      "Requirement already satisfied: jaydebeapi in /usr/local/src/bluemix_jupyter_bundle.v46/notebook/lib/python2.7/site-packages\n",
      "Requirement already satisfied: JPype1 in /usr/local/src/bluemix_jupyter_bundle.v46/notebook/lib/python2.7/site-packages (from jaydebeapi)\n",
      "Requirement already satisfied: ibmdbpy in /usr/local/src/bluemix_jupyter_bundle.v46/notebook/lib/python2.7/site-packages\n",
      "Requirement already satisfied: future in /usr/local/src/bluemix_jupyter_bundle.v46/notebook/lib/python2.7/site-packages (from ibmdbpy)\n",
      "Requirement already satisfied: pandas in /usr/local/src/bluemix_jupyter_bundle.v46/notebook/lib/python2.7/site-packages (from ibmdbpy)\n",
      "Requirement already satisfied: numpy in /usr/local/src/bluemix_jupyter_bundle.v46/notebook/lib/python2.7/site-packages (from ibmdbpy)\n",
      "Requirement already satisfied: pypyodbc in /usr/local/src/bluemix_jupyter_bundle.v46/notebook/lib/python2.7/site-packages (from ibmdbpy)\n",
      "Requirement already satisfied: lazy in /usr/local/src/bluemix_jupyter_bundle.v46/notebook/lib/python2.7/site-packages (from ibmdbpy)\n",
      "Requirement already satisfied: six in /usr/local/src/bluemix_jupyter_bundle.v46/notebook/lib/python2.7/site-packages (from ibmdbpy)\n",
      "Requirement already satisfied: python-dateutil in /usr/local/src/bluemix_jupyter_bundle.v46/notebook/lib/python2.7/site-packages (from pandas->ibmdbpy)\n",
      "Requirement already satisfied: pytz>=2011k in /usr/local/src/bluemix_jupyter_bundle.v46/notebook/lib/python2.7/site-packages (from pandas->ibmdbpy)\n",
      "Requirement already satisfied: setuptools in /usr/local/src/bluemix_jupyter_bundle.v46/notebook/lib/python2.7/site-packages (from pypyodbc->ibmdbpy)\n",
      "Requirement already satisfied: appdirs>=1.4.0 in /usr/local/src/bluemix_jupyter_bundle.v46/notebook/lib/python2.7/site-packages (from setuptools->pypyodbc->ibmdbpy)\n",
      "Requirement already satisfied: packaging>=16.8 in /usr/local/src/bluemix_jupyter_bundle.v46/notebook/lib/python2.7/site-packages (from setuptools->pypyodbc->ibmdbpy)\n",
      "Requirement already satisfied: pyparsing in /usr/local/src/bluemix_jupyter_bundle.v46/notebook/lib/python2.7/site-packages (from packaging>=16.8->setuptools->pypyodbc->ibmdbpy)\n"
     ]
    }
   ],
   "source": [
    "!pip install jaydebeapi --user  \n",
    "!pip install ibmdbpy --user "
   ]
  },
  {
   "cell_type": "code",
   "execution_count": 2,
   "metadata": {
    "collapsed": true
   },
   "outputs": [],
   "source": [
    "import jaydebeapi\n",
    "from ibmdbpy import IdaDataBase\n",
    "from ibmdbpy import IdaDataFrame"
   ]
  },
  {
   "cell_type": "code",
   "execution_count": 3,
   "metadata": {
    "collapsed": true
   },
   "outputs": [],
   "source": [
    "import os\n",
    "os.environ['CLASSPATH'] = \"/usr/local/src/data-connectors-1.4.1/db2jcc4-10.5.0.6.jar\""
   ]
  },
  {
   "cell_type": "code",
   "execution_count": 4,
   "metadata": {
    "collapsed": true
   },
   "outputs": [],
   "source": [
    "import jpype\n",
    "args='-Djava.class.path=%s' % os.environ['CLASSPATH']\n",
    "jvm = jpype.getDefaultJVMPath()\n",
    "jpype.startJVM(jvm, args)"
   ]
  },
  {
   "cell_type": "markdown",
   "metadata": {},
   "source": [
    "\n",
    "## Identify and enter the database connection credentials\n",
    "\n",
    "Connecting to dashDB or a DB2 database requires the following information:\n",
    "* Database name \n",
    "* Host DNS name or IP address \n",
    "* Host port\n",
    "* Connection protocol\n",
    "* User ID\n",
    "* User password\n",
    "\n",
    "All of this information must be captured in a connection string in a subsequent step. Provide the dashDB or DB2 connection information as shown:"
   ]
  },
  {
   "cell_type": "code",
   "execution_count": 5,
   "metadata": {
    "collapsed": false
   },
   "outputs": [],
   "source": [
    "dsn_uid = \"\";  # e.g.  dash104434\n",
    "dsn_pwd = \"\"   # e.g. xxxx\n",
    "dsn_hostname =\"\"  # e.g.  awh-yp-small03.services.dal.bluemix.net\n",
    "dsn_port = \"\"   # e.g.  50001\n",
    "dsn_database = \"\"   # e.g. BLUDB "
   ]
  },
  {
   "cell_type": "markdown",
   "metadata": {},
   "source": [
    "## Create the database connection\n",
    "\n",
    "The following code snippet creates a connection string `connection_string`\n",
    "and uses the `connection_string` to create a DB2 connection object:\n"
   ]
  },
  {
   "cell_type": "code",
   "execution_count": 6,
   "metadata": {
    "collapsed": false
   },
   "outputs": [],
   "source": [
    "connection_string='jdbc:db2://'+dsn_hostname+':'+dsn_port+'/'+dsn_database+':user='+dsn_uid+';password='+dsn_pwd+\";\" \n",
    "idadb=IdaDataBase(dsn=connection_string)"
   ]
  },
  {
   "cell_type": "markdown",
   "metadata": {},
   "source": [
    "## Use dataframe to read and manipulate tables\n",
    "\n",
    "You can now use the connection object `conn` to query the database:"
   ]
  },
  {
   "cell_type": "code",
   "execution_count": 7,
   "metadata": {
    "collapsed": false
   },
   "outputs": [
    {
     "data": {
      "text/html": [
       "<div>\n",
       "<table border=\"1\" class=\"dataframe\">\n",
       "  <thead>\n",
       "    <tr style=\"text-align: right;\">\n",
       "      <th></th>\n",
       "      <th>TABSCHEMA</th>\n",
       "      <th>TABNAME</th>\n",
       "      <th>OWNER</th>\n",
       "      <th>TYPE</th>\n",
       "    </tr>\n",
       "  </thead>\n",
       "  <tbody>\n",
       "    <tr>\n",
       "      <th>0</th>\n",
       "      <td>GOSALES</td>\n",
       "      <td>BRANCH</td>\n",
       "      <td>DB2INST1</td>\n",
       "      <td>T</td>\n",
       "    </tr>\n",
       "    <tr>\n",
       "      <th>1</th>\n",
       "      <td>GOSALES</td>\n",
       "      <td>CONVERSION_RATE</td>\n",
       "      <td>DB2INST1</td>\n",
       "      <td>T</td>\n",
       "    </tr>\n",
       "    <tr>\n",
       "      <th>2</th>\n",
       "      <td>GOSALES</td>\n",
       "      <td>COUNTRY</td>\n",
       "      <td>DB2INST1</td>\n",
       "      <td>T</td>\n",
       "    </tr>\n",
       "    <tr>\n",
       "      <th>3</th>\n",
       "      <td>GOSALES</td>\n",
       "      <td>CURRENCY_LOOKUP</td>\n",
       "      <td>DB2INST1</td>\n",
       "      <td>T</td>\n",
       "    </tr>\n",
       "    <tr>\n",
       "      <th>4</th>\n",
       "      <td>GOSALES</td>\n",
       "      <td>EURO_CONVERSION</td>\n",
       "      <td>DB2INST1</td>\n",
       "      <td>T</td>\n",
       "    </tr>\n",
       "  </tbody>\n",
       "</table>\n",
       "</div>"
      ],
      "text/plain": [
       "  TABSCHEMA          TABNAME     OWNER TYPE\n",
       "0   GOSALES           BRANCH  DB2INST1    T\n",
       "1   GOSALES  CONVERSION_RATE  DB2INST1    T\n",
       "2   GOSALES          COUNTRY  DB2INST1    T\n",
       "3   GOSALES  CURRENCY_LOOKUP  DB2INST1    T\n",
       "4   GOSALES  EURO_CONVERSION  DB2INST1    T"
      ]
     },
     "execution_count": 7,
     "metadata": {},
     "output_type": "execute_result"
    }
   ],
   "source": [
    "df=idadb.show_tables(show_all = True)\n",
    "df.head(5)"
   ]
  },
  {
   "cell_type": "code",
   "execution_count": 8,
   "metadata": {
    "collapsed": false
   },
   "outputs": [
    {
     "data": {
      "text/plain": [
       "True"
      ]
     },
     "execution_count": 8,
     "metadata": {},
     "output_type": "execute_result"
    }
   ],
   "source": [
    "idadb.exists_table_or_view('GOSALESDW.EMP_EXPENSE_FACT')"
   ]
  },
  {
   "cell_type": "markdown",
   "metadata": {},
   "source": [
    "Using our previously opened IdaDataBase instance named ‘idadb’, we can open one or several IdaDataFrame objects. They behave like pointers to remote tables.\n",
    "\n",
    "Let us open the *EMP_EXPENSE_FACT* data set, assuming it is stored in the database under the name ‘GOSALESDW.EMP_EXPENSE_FACT’. The following cell assigns the dataset to a pandas DataFrame.\n",
    "\n",
    "The [Pandas data analysis library](http://pandas.pydata.org/) provides high-performance, easy-to-use data structures and data analysis tools for the Python programming language. Pandas allows easy processing and manipulation of tabular data, so it is a perfect fit for data extracted from relational databases.\n"
   ]
  },
  {
   "cell_type": "code",
   "execution_count": 9,
   "metadata": {
    "collapsed": true
   },
   "outputs": [],
   "source": [
    "idadf = IdaDataFrame(idadb, 'GOSALESDW.EMP_EXPENSE_FACT')"
   ]
  },
  {
   "cell_type": "markdown",
   "metadata": {},
   "source": [
    "You can very easily explore the data in the IdaDataFrame by using built in functions.\n",
    "\n",
    "Use IdaDataFrame.head to get the first n records of your data set (default 5):"
   ]
  },
  {
   "cell_type": "code",
   "execution_count": 10,
   "metadata": {
    "collapsed": false
   },
   "outputs": [
    {
     "data": {
      "text/html": [
       "<div>\n",
       "<table border=\"1\" class=\"dataframe\">\n",
       "  <thead>\n",
       "    <tr style=\"text-align: right;\">\n",
       "      <th></th>\n",
       "      <th>DAY_KEY</th>\n",
       "      <th>ORGANIZATION_KEY</th>\n",
       "      <th>POSITION_KEY</th>\n",
       "      <th>EMPLOYEE_KEY</th>\n",
       "      <th>EXPENSE_TYPE_KEY</th>\n",
       "      <th>ACCOUNT_KEY</th>\n",
       "      <th>EXPENSE_UNIT_QUANTITY</th>\n",
       "      <th>EXPENSE_TOTAL</th>\n",
       "    </tr>\n",
       "  </thead>\n",
       "  <tbody>\n",
       "    <tr>\n",
       "      <th>0</th>\n",
       "      <td>20100131</td>\n",
       "      <td>11101</td>\n",
       "      <td>43639</td>\n",
       "      <td>4001</td>\n",
       "      <td>2120</td>\n",
       "      <td>8052</td>\n",
       "      <td>0.080</td>\n",
       "      <td>513.35</td>\n",
       "    </tr>\n",
       "    <tr>\n",
       "      <th>1</th>\n",
       "      <td>20100131</td>\n",
       "      <td>11101</td>\n",
       "      <td>43639</td>\n",
       "      <td>4001</td>\n",
       "      <td>2131</td>\n",
       "      <td>8049</td>\n",
       "      <td>165.000</td>\n",
       "      <td>4125.00</td>\n",
       "    </tr>\n",
       "    <tr>\n",
       "      <th>2</th>\n",
       "      <td>20100131</td>\n",
       "      <td>11101</td>\n",
       "      <td>43639</td>\n",
       "      <td>4001</td>\n",
       "      <td>2130</td>\n",
       "      <td>8050</td>\n",
       "      <td>0.005</td>\n",
       "      <td>2291.88</td>\n",
       "    </tr>\n",
       "    <tr>\n",
       "      <th>3</th>\n",
       "      <td>20100131</td>\n",
       "      <td>11101</td>\n",
       "      <td>43639</td>\n",
       "      <td>4001</td>\n",
       "      <td>2124</td>\n",
       "      <td>8056</td>\n",
       "      <td>0.030</td>\n",
       "      <td>192.51</td>\n",
       "    </tr>\n",
       "    <tr>\n",
       "      <th>4</th>\n",
       "      <td>20100131</td>\n",
       "      <td>11101</td>\n",
       "      <td>43639</td>\n",
       "      <td>4001</td>\n",
       "      <td>2122</td>\n",
       "      <td>8054</td>\n",
       "      <td>0.110</td>\n",
       "      <td>705.86</td>\n",
       "    </tr>\n",
       "  </tbody>\n",
       "</table>\n",
       "</div>"
      ],
      "text/plain": [
       "    DAY_KEY  ORGANIZATION_KEY  POSITION_KEY  EMPLOYEE_KEY  EXPENSE_TYPE_KEY  \\\n",
       "0  20100131             11101         43639          4001              2120   \n",
       "1  20100131             11101         43639          4001              2131   \n",
       "2  20100131             11101         43639          4001              2130   \n",
       "3  20100131             11101         43639          4001              2124   \n",
       "4  20100131             11101         43639          4001              2122   \n",
       "\n",
       "   ACCOUNT_KEY  EXPENSE_UNIT_QUANTITY  EXPENSE_TOTAL  \n",
       "0         8052                  0.080         513.35  \n",
       "1         8049                165.000        4125.00  \n",
       "2         8050                  0.005        2291.88  \n",
       "3         8056                  0.030         192.51  \n",
       "4         8054                  0.110         705.86  "
      ]
     },
     "execution_count": 10,
     "metadata": {},
     "output_type": "execute_result"
    }
   ],
   "source": [
    "idadf.head(5)"
   ]
  },
  {
   "cell_type": "markdown",
   "metadata": {},
   "source": [
    "Use IdaDataFrame.tail to get the last n records of your data set (default 5):"
   ]
  },
  {
   "cell_type": "code",
   "execution_count": 11,
   "metadata": {
    "collapsed": false
   },
   "outputs": [
    {
     "data": {
      "text/html": [
       "<div>\n",
       "<table border=\"1\" class=\"dataframe\">\n",
       "  <thead>\n",
       "    <tr style=\"text-align: right;\">\n",
       "      <th></th>\n",
       "      <th>DAY_KEY</th>\n",
       "      <th>ORGANIZATION_KEY</th>\n",
       "      <th>POSITION_KEY</th>\n",
       "      <th>EMPLOYEE_KEY</th>\n",
       "      <th>EXPENSE_TYPE_KEY</th>\n",
       "      <th>ACCOUNT_KEY</th>\n",
       "      <th>EXPENSE_UNIT_QUANTITY</th>\n",
       "      <th>EXPENSE_TOTAL</th>\n",
       "    </tr>\n",
       "  </thead>\n",
       "  <tbody>\n",
       "    <tr>\n",
       "      <th>127979</th>\n",
       "      <td>20130731</td>\n",
       "      <td>11187</td>\n",
       "      <td>43603</td>\n",
       "      <td>4960</td>\n",
       "      <td>2120</td>\n",
       "      <td>8052</td>\n",
       "      <td>0.08</td>\n",
       "      <td>929.23</td>\n",
       "    </tr>\n",
       "    <tr>\n",
       "      <th>127980</th>\n",
       "      <td>20130731</td>\n",
       "      <td>11187</td>\n",
       "      <td>43603</td>\n",
       "      <td>4960</td>\n",
       "      <td>2122</td>\n",
       "      <td>8054</td>\n",
       "      <td>0.11</td>\n",
       "      <td>1277.69</td>\n",
       "    </tr>\n",
       "    <tr>\n",
       "      <th>127981</th>\n",
       "      <td>20130731</td>\n",
       "      <td>11187</td>\n",
       "      <td>43603</td>\n",
       "      <td>4960</td>\n",
       "      <td>2124</td>\n",
       "      <td>8056</td>\n",
       "      <td>0.03</td>\n",
       "      <td>348.46</td>\n",
       "    </tr>\n",
       "    <tr>\n",
       "      <th>127982</th>\n",
       "      <td>20130731</td>\n",
       "      <td>11187</td>\n",
       "      <td>43603</td>\n",
       "      <td>4960</td>\n",
       "      <td>2131</td>\n",
       "      <td>8049</td>\n",
       "      <td>157.50</td>\n",
       "      <td>11087.42</td>\n",
       "    </tr>\n",
       "    <tr>\n",
       "      <th>127983</th>\n",
       "      <td>20130731</td>\n",
       "      <td>11187</td>\n",
       "      <td>43603</td>\n",
       "      <td>4960</td>\n",
       "      <td>2134</td>\n",
       "      <td>8050</td>\n",
       "      <td>37.50</td>\n",
       "      <td>13500.00</td>\n",
       "    </tr>\n",
       "  </tbody>\n",
       "</table>\n",
       "</div>"
      ],
      "text/plain": [
       "         DAY_KEY  ORGANIZATION_KEY  POSITION_KEY  EMPLOYEE_KEY  \\\n",
       "127979  20130731             11187         43603          4960   \n",
       "127980  20130731             11187         43603          4960   \n",
       "127981  20130731             11187         43603          4960   \n",
       "127982  20130731             11187         43603          4960   \n",
       "127983  20130731             11187         43603          4960   \n",
       "\n",
       "        EXPENSE_TYPE_KEY  ACCOUNT_KEY  EXPENSE_UNIT_QUANTITY  EXPENSE_TOTAL  \n",
       "127979              2120         8052                   0.08         929.23  \n",
       "127980              2122         8054                   0.11        1277.69  \n",
       "127981              2124         8056                   0.03         348.46  \n",
       "127982              2131         8049                 157.50       11087.42  \n",
       "127983              2134         8050                  37.50       13500.00  "
      ]
     },
     "execution_count": 11,
     "metadata": {},
     "output_type": "execute_result"
    }
   ],
   "source": [
    "idadf.tail(5)"
   ]
  },
  {
   "cell_type": "markdown",
   "metadata": {},
   "source": [
    "__Note:__ Because dashDB operates on a distributed system, the order of rows using IdaDataFrame.head and IdaDataFrame.tail is not guaranteed unless the table is sorted (using an ‘ORDER BY’ clause) or a column is declared as index for the IdaDataFrame (parameter/attribute indexer).\n",
    "\n",
    "IdaDataFrame also implements most attributes that are available in a pandas DataFrame:"
   ]
  },
  {
   "cell_type": "code",
   "execution_count": 12,
   "metadata": {
    "collapsed": false
   },
   "outputs": [
    {
     "data": {
      "text/plain": [
       "(127984, 8)"
      ]
     },
     "execution_count": 12,
     "metadata": {},
     "output_type": "execute_result"
    }
   ],
   "source": [
    "idadf.shape"
   ]
  },
  {
   "cell_type": "code",
   "execution_count": 13,
   "metadata": {
    "collapsed": false
   },
   "outputs": [
    {
     "data": {
      "text/plain": [
       "Index([u'DAY_KEY', u'ORGANIZATION_KEY', u'POSITION_KEY', u'EMPLOYEE_KEY',\n",
       "       u'EXPENSE_TYPE_KEY', u'ACCOUNT_KEY', u'EXPENSE_UNIT_QUANTITY',\n",
       "       u'EXPENSE_TOTAL'],\n",
       "      dtype='object')"
      ]
     },
     "execution_count": 13,
     "metadata": {},
     "output_type": "execute_result"
    }
   ],
   "source": [
    "idadf.columns"
   ]
  },
  {
   "cell_type": "markdown",
   "metadata": {},
   "source": [
    "Several standard statistics functions from the pandas interface are also available for IdaDataFrame. For example, let us calculate the covariance matrix for the iris data set:"
   ]
  },
  {
   "cell_type": "code",
   "execution_count": 14,
   "metadata": {
    "collapsed": false
   },
   "outputs": [
    {
     "data": {
      "text/html": [
       "<div>\n",
       "<table border=\"1\" class=\"dataframe\">\n",
       "  <thead>\n",
       "    <tr style=\"text-align: right;\">\n",
       "      <th></th>\n",
       "      <th>DAY_KEY</th>\n",
       "      <th>ORGANIZATION_KEY</th>\n",
       "      <th>POSITION_KEY</th>\n",
       "      <th>EMPLOYEE_KEY</th>\n",
       "      <th>EXPENSE_TYPE_KEY</th>\n",
       "      <th>ACCOUNT_KEY</th>\n",
       "      <th>EXPENSE_UNIT_QUANTITY</th>\n",
       "      <th>EXPENSE_TOTAL</th>\n",
       "    </tr>\n",
       "  </thead>\n",
       "  <tbody>\n",
       "    <tr>\n",
       "      <th>DAY_KEY</th>\n",
       "      <td>1.074445e+08</td>\n",
       "      <td>-1301.774305</td>\n",
       "      <td>-2699.336397</td>\n",
       "      <td>-74463.200864</td>\n",
       "      <td>-2541.104007</td>\n",
       "      <td>-88.733494</td>\n",
       "      <td>-2747.250164</td>\n",
       "      <td>338749.301508</td>\n",
       "    </tr>\n",
       "    <tr>\n",
       "      <th>ORGANIZATION_KEY</th>\n",
       "      <td>-1.301774e+03</td>\n",
       "      <td>977.978493</td>\n",
       "      <td>-60.746262</td>\n",
       "      <td>2228.417559</td>\n",
       "      <td>-27.240468</td>\n",
       "      <td>0.756326</td>\n",
       "      <td>11.186590</td>\n",
       "      <td>-2999.218552</td>\n",
       "    </tr>\n",
       "    <tr>\n",
       "      <th>POSITION_KEY</th>\n",
       "      <td>-2.699336e+03</td>\n",
       "      <td>-60.746262</td>\n",
       "      <td>148.234472</td>\n",
       "      <td>-2070.934630</td>\n",
       "      <td>10.284910</td>\n",
       "      <td>-1.006254</td>\n",
       "      <td>-13.697657</td>\n",
       "      <td>1101.107528</td>\n",
       "    </tr>\n",
       "    <tr>\n",
       "      <th>EMPLOYEE_KEY</th>\n",
       "      <td>-7.446320e+04</td>\n",
       "      <td>2228.417559</td>\n",
       "      <td>-2070.934630</td>\n",
       "      <td>89393.601947</td>\n",
       "      <td>-237.530049</td>\n",
       "      <td>39.144365</td>\n",
       "      <td>525.387975</td>\n",
       "      <td>47399.031411</td>\n",
       "    </tr>\n",
       "    <tr>\n",
       "      <th>EXPENSE_TYPE_KEY</th>\n",
       "      <td>-2.541104e+03</td>\n",
       "      <td>-27.240468</td>\n",
       "      <td>10.284910</td>\n",
       "      <td>-237.530049</td>\n",
       "      <td>88.103306</td>\n",
       "      <td>4.663223</td>\n",
       "      <td>26.490807</td>\n",
       "      <td>5577.918013</td>\n",
       "    </tr>\n",
       "    <tr>\n",
       "      <th>ACCOUNT_KEY</th>\n",
       "      <td>-8.873349e+01</td>\n",
       "      <td>0.756326</td>\n",
       "      <td>-1.006254</td>\n",
       "      <td>39.144365</td>\n",
       "      <td>4.663223</td>\n",
       "      <td>6.414971</td>\n",
       "      <td>-92.920363</td>\n",
       "      <td>-2669.484571</td>\n",
       "    </tr>\n",
       "    <tr>\n",
       "      <th>EXPENSE_UNIT_QUANTITY</th>\n",
       "      <td>-2.747250e+03</td>\n",
       "      <td>11.186590</td>\n",
       "      <td>-13.697657</td>\n",
       "      <td>525.387975</td>\n",
       "      <td>26.490807</td>\n",
       "      <td>-92.920363</td>\n",
       "      <td>3331.325768</td>\n",
       "      <td>76740.540006</td>\n",
       "    </tr>\n",
       "    <tr>\n",
       "      <th>EXPENSE_TOTAL</th>\n",
       "      <td>3.387493e+05</td>\n",
       "      <td>-2999.218552</td>\n",
       "      <td>1101.107528</td>\n",
       "      <td>47399.031411</td>\n",
       "      <td>5577.918013</td>\n",
       "      <td>-2669.484571</td>\n",
       "      <td>76740.540006</td>\n",
       "      <td>4321078.159027</td>\n",
       "    </tr>\n",
       "  </tbody>\n",
       "</table>\n",
       "</div>"
      ],
      "text/plain": [
       "                            DAY_KEY  ORGANIZATION_KEY  POSITION_KEY  \\\n",
       "DAY_KEY                1.074445e+08      -1301.774305  -2699.336397   \n",
       "ORGANIZATION_KEY      -1.301774e+03        977.978493    -60.746262   \n",
       "POSITION_KEY          -2.699336e+03        -60.746262    148.234472   \n",
       "EMPLOYEE_KEY          -7.446320e+04       2228.417559  -2070.934630   \n",
       "EXPENSE_TYPE_KEY      -2.541104e+03        -27.240468     10.284910   \n",
       "ACCOUNT_KEY           -8.873349e+01          0.756326     -1.006254   \n",
       "EXPENSE_UNIT_QUANTITY -2.747250e+03         11.186590    -13.697657   \n",
       "EXPENSE_TOTAL          3.387493e+05      -2999.218552   1101.107528   \n",
       "\n",
       "                       EMPLOYEE_KEY  EXPENSE_TYPE_KEY  ACCOUNT_KEY  \\\n",
       "DAY_KEY               -74463.200864      -2541.104007   -88.733494   \n",
       "ORGANIZATION_KEY        2228.417559        -27.240468     0.756326   \n",
       "POSITION_KEY           -2070.934630         10.284910    -1.006254   \n",
       "EMPLOYEE_KEY           89393.601947       -237.530049    39.144365   \n",
       "EXPENSE_TYPE_KEY        -237.530049         88.103306     4.663223   \n",
       "ACCOUNT_KEY               39.144365          4.663223     6.414971   \n",
       "EXPENSE_UNIT_QUANTITY    525.387975         26.490807   -92.920363   \n",
       "EXPENSE_TOTAL          47399.031411       5577.918013 -2669.484571   \n",
       "\n",
       "                       EXPENSE_UNIT_QUANTITY   EXPENSE_TOTAL  \n",
       "DAY_KEY                         -2747.250164   338749.301508  \n",
       "ORGANIZATION_KEY                   11.186590    -2999.218552  \n",
       "POSITION_KEY                      -13.697657     1101.107528  \n",
       "EMPLOYEE_KEY                      525.387975    47399.031411  \n",
       "EXPENSE_TYPE_KEY                   26.490807     5577.918013  \n",
       "ACCOUNT_KEY                       -92.920363    -2669.484571  \n",
       "EXPENSE_UNIT_QUANTITY            3331.325768    76740.540006  \n",
       "EXPENSE_TOTAL                   76740.540006  4321078.159027  "
      ]
     },
     "execution_count": 14,
     "metadata": {},
     "output_type": "execute_result"
    }
   ],
   "source": [
    "idadf.cov()"
   ]
  },
  {
   "cell_type": "markdown",
   "metadata": {},
   "source": [
    "It is possible to subset the rows of an IdaDataFrame by accessing the IdaDataFrame with a slice object. You can also use the IdaDataFrame.loc attribute, which contains an ibmdbpy.Loc object. However, the row selection might be inaccurate if the current IdaDataFrame is not sorted or does not contain an indexer. This is due to the fact that dashDB stores the data across several nodes if available. Moreover, because dashDB is a column oriented database, row numbers are undefined:"
   ]
  },
  {
   "cell_type": "code",
   "execution_count": 15,
   "metadata": {
    "collapsed": false
   },
   "outputs": [
    {
     "name": "stderr",
     "output_type": "stream",
     "text": [
      "/usr/local/src/bluemix_jupyter_bundle.v46/notebook/lib/python2.7/site-packages/ibmdbpy/indexing.py:118: UserWarning: Row order is not guaranteed if no indexer was given and the dataset was not sorted\n",
      "  \" was given and the dataset was not sorted\")\n"
     ]
    },
    {
     "data": {
      "text/html": [
       "<div>\n",
       "<table border=\"1\" class=\"dataframe\">\n",
       "  <thead>\n",
       "    <tr style=\"text-align: right;\">\n",
       "      <th></th>\n",
       "      <th>DAY_KEY</th>\n",
       "      <th>ORGANIZATION_KEY</th>\n",
       "      <th>POSITION_KEY</th>\n",
       "      <th>EMPLOYEE_KEY</th>\n",
       "      <th>EXPENSE_TYPE_KEY</th>\n",
       "      <th>ACCOUNT_KEY</th>\n",
       "      <th>EXPENSE_UNIT_QUANTITY</th>\n",
       "      <th>EXPENSE_TOTAL</th>\n",
       "    </tr>\n",
       "  </thead>\n",
       "  <tbody>\n",
       "    <tr>\n",
       "      <th>0</th>\n",
       "      <td>20111231</td>\n",
       "      <td>11136</td>\n",
       "      <td>43631</td>\n",
       "      <td>4914</td>\n",
       "      <td>2124</td>\n",
       "      <td>8056</td>\n",
       "      <td>0.03</td>\n",
       "      <td>171.63</td>\n",
       "    </tr>\n",
       "    <tr>\n",
       "      <th>1</th>\n",
       "      <td>20111231</td>\n",
       "      <td>11136</td>\n",
       "      <td>43631</td>\n",
       "      <td>4914</td>\n",
       "      <td>2131</td>\n",
       "      <td>8049</td>\n",
       "      <td>165.00</td>\n",
       "      <td>5721.15</td>\n",
       "    </tr>\n",
       "    <tr>\n",
       "      <th>2</th>\n",
       "      <td>20120131</td>\n",
       "      <td>11136</td>\n",
       "      <td>43631</td>\n",
       "      <td>4914</td>\n",
       "      <td>2120</td>\n",
       "      <td>8052</td>\n",
       "      <td>0.08</td>\n",
       "      <td>457.69</td>\n",
       "    </tr>\n",
       "    <tr>\n",
       "      <th>3</th>\n",
       "      <td>20120131</td>\n",
       "      <td>11136</td>\n",
       "      <td>43631</td>\n",
       "      <td>4914</td>\n",
       "      <td>2124</td>\n",
       "      <td>8056</td>\n",
       "      <td>0.03</td>\n",
       "      <td>171.63</td>\n",
       "    </tr>\n",
       "    <tr>\n",
       "      <th>4</th>\n",
       "      <td>20120131</td>\n",
       "      <td>11136</td>\n",
       "      <td>43631</td>\n",
       "      <td>4914</td>\n",
       "      <td>2122</td>\n",
       "      <td>8054</td>\n",
       "      <td>0.11</td>\n",
       "      <td>629.33</td>\n",
       "    </tr>\n",
       "  </tbody>\n",
       "</table>\n",
       "</div>"
      ],
      "text/plain": [
       "    DAY_KEY  ORGANIZATION_KEY  POSITION_KEY  EMPLOYEE_KEY  EXPENSE_TYPE_KEY  \\\n",
       "0  20111231             11136         43631          4914              2124   \n",
       "1  20111231             11136         43631          4914              2131   \n",
       "2  20120131             11136         43631          4914              2120   \n",
       "3  20120131             11136         43631          4914              2124   \n",
       "4  20120131             11136         43631          4914              2122   \n",
       "\n",
       "   ACCOUNT_KEY  EXPENSE_UNIT_QUANTITY  EXPENSE_TOTAL  \n",
       "0         8056                   0.03         171.63  \n",
       "1         8049                 165.00        5721.15  \n",
       "2         8052                   0.08         457.69  \n",
       "3         8056                   0.03         171.63  \n",
       "4         8054                   0.11         629.33  "
      ]
     },
     "execution_count": 15,
     "metadata": {},
     "output_type": "execute_result"
    }
   ],
   "source": [
    "idadf_new = idadf[0:9] # Select the first 10 rows\n",
    "idadf_new.head()"
   ]
  },
  {
   "cell_type": "markdown",
   "metadata": {},
   "source": [
    "## Close the database connection\n",
    "\n",
    "To ensure expected behaviors, IdaDataBase instances need to be closed. Closing the *IdaDataBase* is equivalent to closing the connection: once the connection is closed, it is no longer possible to use the *IdaDataBase* instance and any IdaDataFrame instances that were opened on this connection."
   ]
  },
  {
   "cell_type": "code",
   "execution_count": 16,
   "metadata": {
    "collapsed": false
   },
   "outputs": [
    {
     "name": "stdout",
     "output_type": "stream",
     "text": [
      "Connection closed.\n"
     ]
    }
   ],
   "source": [
    "idadb.close()"
   ]
  },
  {
   "cell_type": "markdown",
   "metadata": {},
   "source": [
    "## Summary\n",
    "\n",
    "This notebook demonstrated how to establish a connection to a dashDB / DB2 database from Python using the ibmdbpy library."
   ]
  },
  {
   "cell_type": "markdown",
   "metadata": {},
   "source": [
    "## Want to learn more?\n",
    "### Free courses on <a href=\"https://bigdatauniversity.com/courses/?utm_source=tutorial-dashdb-python&utm_medium=github&utm_campaign=bdu/\" rel=\"noopener noreferrer\" target=\"_blank\">Big Data University</a>: <a href=\"https://bigdatauniversity.com/courses/?utm_source=tutorial-dashdb-python&utm_medium=github&utm_campaign=bdu\" rel=\"noopener noreferrer\" target=\"_blank\"><img src = \"https://ibm.box.com/shared/static/xomeu7dacwufkoawbg3owc8wzuezltn6.png\" width=600px> </a>"
   ]
  },
  {
   "cell_type": "markdown",
   "metadata": {},
   "source": [
    "### Authors\n",
    "\n",
    "**Saeed Aghabozorgi**, PhD, is a Data Scientist in IBM with a track record of developing enterprise-level applications that substantially increases clients' ability to turn data into actionable knowledge. He is a researcher in the data mining field and an expert in developing advanced analytic methods like machine learning and statistical modelling on large data sets.\n",
    "\n",
    "**Polong Lin** is a Data Scientist at IBM in Canada. Under the Emerging Technologies division, Polong is responsible for educating the next generation of data scientists through Big Data University. Polong is a regular speaker in conferences and meetups, and holds an M.Sc. in Cognitive Psychology."
   ]
  },
  {
   "cell_type": "markdown",
   "metadata": {},
   "source": [
    "Copyright © 2016, 2017 Big Data University. This notebook and its source code are released under the terms of the <a href=\"https://bigdatauniversity.com/mit-license/\" rel=\"noopener noreferrer\" target=\"_blank\">MIT License</a>."
   ]
  }
 ],
 "metadata": {
  "kernelspec": {
   "display_name": "Python 2 with Spark 2.0",
   "language": "python",
   "name": "python2-spark20"
  },
  "language_info": {
   "codemirror_mode": {
    "name": "ipython",
    "version": 2
   },
   "file_extension": ".py",
   "mimetype": "text/x-python",
   "name": "python",
   "nbconvert_exporter": "python",
   "pygments_lexer": "ipython2",
   "version": "2.7.11"
  }
 },
 "nbformat": 4,
 "nbformat_minor": 0
}