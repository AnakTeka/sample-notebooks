{
 "cells": [
  {
   "cell_type": "markdown",
   "metadata": {
    "collapsed": true
   },
   "source": [
    "# Small Steps to `TensorFlow`\n",
    "## Solve Problems with Matrices, Linear Regression, and Gradient Descent\n",
    "\n",
    "This guide is Part One of a light introduction to [`TensorFlow`](https://www.tensorflow.org/versions/r0.12/get_started/basic_usage#tensors) on DSX.\n",
    "`Tensorflow` is a popular and powerful framework used to specify computations as `graphs` which data `flow` through. These data are represented as `tensors`. By the end of this guide, we'll have developed an intuition for how this all fits together. \n",
    "\n",
    "We will not build any neural networks. Instead, we'll use `TensorFlow` to solve toy problems. This way, we will develop some familiarity with the APIs and best practices. \n",
    "\n",
    "\n",
    "## Table of Contents\n",
    "\n",
    "First, we'll quickly review matrices and linear equations, taking advantage of `TensorFlow` to compute the solution to a system of linear equations. Then, we'll solve a real world problem using matrices. Finally, we'll build a linear model to approximate a `Sine` curve using the `Gradient Descent` algorithm. \n",
    "________\n",
    "### 1. [What's a TENSOR, anyway?](#tensor) \n",
    "### 2. [Matrix math & linear equations](#matix)\n",
    "### 3. [Learning to Sine](#sine)\n",
    "________"
   ]
  },
  {
   "cell_type": "markdown",
   "metadata": {},
   "source": [
    "<a id=\"tensor\"></a>\n",
    "## I. What's a TENSOR, anyway? \n",
    "\n",
    "Mathematics describes tensors: \n",
    "<blockquote> \n",
    "    <p> \n",
    "**`Tensors`** are generalizations of _scalars_ (that have _no_ indices), _vectors_ (that have exactly one index), and _matrices_ (that have exactly two indices) to an **arbitrary number of indices**.$^{[1]}$\n",
    "    </p> \n",
    "</blockquote> \n",
    "\n",
    "The TensorFlow documentation notes further that: \n",
    "<blockquote> \n",
    "    <p> \n",
    "        TensorFlow programs use a tensor data structure to represent all data -- only tensors are passed between operations in the computation graph. You can think of a TensorFlow tensor as an n-dimensional array or list. A tensor has a static type, a rank, and a shape. $^{[2]}$\n",
    "    </p> \n",
    "</blockquote> \n",
    "\n",
    "\n",
    "The main idea is that `Tensors` works like a `typed multidimensional array`. \n",
    "\n",
    "\n",
    "\n",
    "### Systems of equations \n",
    "To build our intuition about tensors, we're first going to solve a system of linear equations. Though this doesn't _exactly_ fall into `Machine Learning`,  it's helpful to quickly the review some of the basics, especially when working with new materials. \n",
    "\n",
    "\n",
    "The system of linear equations we'll solve can be represented like:\n",
    "\n",
    "$$ \\text{a}x + \\text{b}y = c $$\n",
    "$$ \\text{d}x + \\text{e}y = f $$\n",
    "\n",
    "where $a, b, c, d, e, \\text{ and } f$ are real valued constants, and neither $a \\text{ and } b$ nor $d \\text{ and } e$ are both $0$. \n",
    "\n",
    "Now, suppose we want to solve for $x \\text{ and } y$ where:\n",
    "\n",
    "$$ - x + 3y= 7 $$\n",
    "$$ 3x + 2y = 1 $$\n",
    "\n",
    "Working out some algebra, we have:\n",
    "\n",
    "$$ y = \\frac{1}{3} x + \\frac{7}{3}$$ and\n",
    "\n",
    "$$ y = -\\frac{3}{2} x + \\frac{1}{2}$$\n",
    "\n",
    "If we generate some points and plot a line, we can inspect where the lines intersect -- that's the solution. "
   ]
  },
  {
   "cell_type": "code",
   "execution_count": 1,
   "metadata": {},
   "outputs": [
    {
     "name": "stdout",
     "output_type": "stream",
     "text": [
      "Some points from the first line: \n",
      "[(-2.5, 1.5000000000000002), (-2.4494949494949494, 1.5168350168350171), (-2.3989898989898988, 1.533670033670034)]\n",
      "\n",
      " Some points from the second line: \n",
      "[(-2.5, 4.25), (-2.4494949494949494, 4.1742424242424239), (-2.3989898989898988, 4.0984848484848477)]\n"
     ]
    }
   ],
   "source": [
    "# numpy for matrix math and generating data \n",
    "import numpy as np\n",
    "np.random.seed(0)\n",
    "\n",
    "# create the x data \n",
    "xs = np.linspace(-2.5,2.5,100)\n",
    "\n",
    "# create two sets of y data \n",
    "# `y1` is the first line, `y2` the second\n",
    "y1 = [((1/3.0) * x + 7/3.0) for x in xs]\n",
    "y2 = [(-1*(3.0/2) * x + 1/2.0) for x in xs]\n",
    "\n",
    "print(\"Some points from the first line: \")\n",
    "print([i for i in zip(xs[:3], y1[:3])])\n",
    "\n",
    "print(\"\\n Some points from the second line: \")\n",
    "print([i for i in zip(xs[:3], y2[:3])])"
   ]
  },
  {
   "cell_type": "code",
   "execution_count": 2,
   "metadata": {
    "scrolled": false
   },
   "outputs": [
    {
     "data": {
      "image/png": "[encoded data removed]",
      "text/plain": [
       "<matplotlib.figure.Figure at 0x7f8f744af828>"
      ]
     },
     "metadata": {},
     "output_type": "display_data"
    }
   ],
   "source": [
    "# plot\n",
    "import matplotlib.pyplot as plt\n",
    "plt.rcParams['figure.figsize'] = (8,8)\n",
    "plt.style.use('seaborn-darkgrid')\n",
    "\n",
    "plt.scatter(x=xs, y = y1, s=2)\n",
    "plt.scatter(x=xs, y = y2, s=2)\n",
    "plt.scatter(x=-1, y=2, color = 'r', marker='o', s=55)\n",
    "plt.scatter(x=0, y=0, c='black', s=1, marker='o', alpha=.5)\n",
    "plt.title(\"Visualizing the solution\")\n",
    "plt.show()"
   ]
  },
  {
   "cell_type": "markdown",
   "metadata": {},
   "source": [
    "We can see that the solution is $\\textbf{(-1,2)}$ by inspection. "
   ]
  },
  {
   "cell_type": "markdown",
   "metadata": {},
   "source": [
    "# <a id=\"matrix\"></a>\n",
    "## II. Matrix math\n",
    "Importantly, every linear transformation can be represented by a matrix, and every matrix defines a unique linear transformation. The proof is left as an exercise for the reader -- or you can just <a href=\"https://math.stackexchange.com/questions/916192/proving-any-linear-transformation-can-be-represented-as-a-matrix\" target=\"_blank\" rel=\"noopener noreferrer\">Read a nice one on math Stack Exchange</a>. \n",
    "\n",
    "Now let's solve this system with matrices in `TensorFlow`! `TensorFlow` makes  <a href=\"https://www.tensorflow.org/api_guides/python/math_ops\" target=\"_blank\" rel=\"noopener noreferrer\">matrix math</a> easy.\n",
    "\n",
    "First, we need to represent our system of equations in matrix form: \n",
    "\n",
    "$\n",
    "  \\left[ {\\begin{array}{cc}\n",
    "   -1 & 3 \\\\\n",
    "   3 & 2 \\\\\n",
    "  \\end{array} } \\right]\n",
    " $\n",
    " $\n",
    " \\left[ {\\begin{array}{c}\n",
    "   x \\\\\n",
    "   y \\\\\n",
    "  \\end{array} } \\right]\n",
    "  $\n",
    "  $ =  \\left[ {\\begin{array}{c}\n",
    "   7 \\\\\n",
    "   1 \\\\\n",
    "  \\end{array} } \\right]\n",
    "  $\n",
    "  \n",
    "\n",
    "Now, we're interested in values for  $\n",
    " \\left[ {\\begin{array}{c}\n",
    "   x \\\\\n",
    "   y \\\\\n",
    "  \\end{array} } \\right]\n",
    "  $ that makes this statement true. \n",
    "  \n",
    "  \n",
    "Representing the above more simply as:\n",
    "\n",
    "$$ AX = B $$ \n",
    "\n",
    "where: \n",
    "\n",
    "\n",
    "* $A$ is the matrix of coefficients\n",
    "\n",
    "* $X$ is $x$ and $y$\n",
    "\n",
    "* $B$ is the values from the right hand side\n",
    "\n",
    "Then we can solve:\n",
    "$$A^{-1}B = X$$\n",
    "\n",
    "for X, the matrix representing the solution, the $(x,y)$ pair, to our system of equations.  Let's implement this in `TensorFlow`."
   ]
  },
  {
   "cell_type": "code",
   "execution_count": 3,
   "metadata": {},
   "outputs": [],
   "source": [
    "# import tensorflow\n",
    "import tensorflow as tf\n",
    "\n",
    "# make the matrices in numpy\n",
    "A = np.matrix([\n",
    "    [-1, 3],\n",
    "    [3, 2]\n",
    "]).astype('float64')\n",
    "\n",
    "B = np.matrix([\n",
    "    [7], [1]\n",
    "]).astype('float64')\n",
    "\n",
    "# convert to tensors\n",
    "A_t = tf.convert_to_tensor(A)\n",
    "B_t = tf.convert_to_tensor(B)\n",
    "\n",
    "## the inverse, A^-1\n",
    "A_inv = tf.matrix_inverse(A_t)\n",
    "\n",
    "# the solution\n",
    "X = tf.matmul(A_inv, B)"
   ]
  },
  {
   "cell_type": "markdown",
   "metadata": {},
   "source": [
    "So, what's in `X` ? "
   ]
  },
  {
   "cell_type": "code",
   "execution_count": 4,
   "metadata": {},
   "outputs": [
    {
     "data": {
      "text/plain": [
       "<tf.Tensor 'MatMul:0' shape=(2, 1) dtype=float64>"
      ]
     },
     "execution_count": 4,
     "metadata": {},
     "output_type": "execute_result"
    }
   ],
   "source": [
    "X"
   ]
  },
  {
   "cell_type": "markdown",
   "metadata": {},
   "source": [
    "There's a reason we see this unusual result. In fact, `X` has not been evaluated. `TensorFlow` allows you to specify computations without actually performing them. To compute `X`, we'll need to start a  <a href=\"https://www.tensorflow.org/api_docs/python/tf/Session\" target=\"_blank\" rel=\"noopener noreferrer\">session</a>."
   ]
  },
  {
   "cell_type": "code",
   "execution_count": 5,
   "metadata": {},
   "outputs": [
    {
     "name": "stdout",
     "output_type": "stream",
     "text": [
      "[[-1.]\n",
      " [ 2.]]\n"
     ]
    }
   ],
   "source": [
    "# Let's start a session \n",
    "# initialize the variables\n",
    "\n",
    "init = tf.global_variables_initializer()\n",
    "\n",
    "with tf.Session() as sess:\n",
    "    sess.run(init)\n",
    "    print(sess.run(X))"
   ]
  },
  {
   "cell_type": "markdown",
   "metadata": {},
   "source": [
    "That's the point we saw earlier, $\\textbf{(-1, 2)}$. Pretty cool! Verify this yourself by substituting these values into the original equations. Notice that we only had to `run` $X$ after we initialize all of the other variables. We'll develop more complex sessions later. \n",
    "\n",
    "### An exercise: IBM Manufacturing \n",
    "\n",
    "Suppose that IBM wants to manufacture three types of computers, models $X, Y, \\text{ and } Z$. \n",
    "And suppose further that there are three facilities, `Bangalore` $B$, `Poughkeepsie` $P$, and `Rome` $R$. Each locations has an associated resource allocation. **Our goal is find the combination of the number of computers to produce such that all available resources are consumed.** \n",
    "\n",
    "* $X$ costs 3 in $B$,  4 in $P$, and 5 in $R$\n",
    "* $Y$ costs 2 in $B$,  5 in $P$, and 7 in $R$\n",
    "* $Z$ costs 4 in $B$,  3 in $P$, and 6 in $R$\n",
    "\n",
    "Further, each location only has so many resources available. `Bangalore` $B$, `Poughkeepsie` $P$, and `Rome` $R$ have $25, 31, 44$ resources respectively. \n",
    "\n",
    "Consider this table:"
   ]
  },
  {
   "cell_type": "code",
   "execution_count": 6,
   "metadata": {},
   "outputs": [
    {
     "data": {
      "text/html": [
       "<div>\n",
       "<table border=\"1\" class=\"dataframe\">\n",
       "  <thead>\n",
       "    <tr style=\"text-align: right;\">\n",
       "      <th></th>\n",
       "      <th>X</th>\n",
       "      <th>Y</th>\n",
       "      <th>Z</th>\n",
       "      <th>Resources</th>\n",
       "    </tr>\n",
       "  </thead>\n",
       "  <tbody>\n",
       "    <tr>\n",
       "      <th>Bangalore</th>\n",
       "      <td>3</td>\n",
       "      <td>2</td>\n",
       "      <td>4</td>\n",
       "      <td>25</td>\n",
       "    </tr>\n",
       "    <tr>\n",
       "      <th>Poughkeepsie</th>\n",
       "      <td>4</td>\n",
       "      <td>5</td>\n",
       "      <td>3</td>\n",
       "      <td>31</td>\n",
       "    </tr>\n",
       "    <tr>\n",
       "      <th>Rome</th>\n",
       "      <td>5</td>\n",
       "      <td>7</td>\n",
       "      <td>6</td>\n",
       "      <td>44</td>\n",
       "    </tr>\n",
       "  </tbody>\n",
       "</table>\n",
       "</div>"
      ],
      "text/plain": [
       "              X  Y  Z  Resources\n",
       "Bangalore     3  2  4         25\n",
       "Poughkeepsie  4  5  3         31\n",
       "Rome          5  7  6         44"
      ]
     },
     "execution_count": 6,
     "metadata": {},
     "output_type": "execute_result"
    }
   ],
   "source": [
    "# pandas for DataFrame tabular representation \n",
    "import pandas as pd\n",
    "df = pd.DataFrame(index = [\"Bangalore\", \"Poughkeepsie\", \"Rome\"], columns = [\"X\", \"Y\", \"Z\", \"Resources\"])\n",
    "df.X = [3,4,5]\n",
    "df.Y = [2,5,7]\n",
    "df.Z = [4,3,6]\n",
    "df.Resources = [25, 31, 44]\n",
    "df"
   ]
  },
  {
   "cell_type": "markdown",
   "metadata": {},
   "source": [
    "Our task is to use all of the resources at the facilities. Let's write this as a system of equations:\n",
    "\n",
    "$$ 3x + 2y + 4z = 25 $$\n",
    "$$ 4x + 5y + 3z = 31 $$\n",
    "$$ 5x + 7y + 6z = 44 $$\n",
    "\n",
    "Now, we can represent this in matrix form:\n",
    "\n",
    "\n",
    "\n",
    "$\n",
    "  \\left[ {\\begin{array}{ccc}\n",
    "   3 & 2 & 4 \\\\\n",
    "   4 & 5 & 3 \\\\\n",
    "   5 & 7 & 6\\\\\n",
    "  \\end{array} } \\right]\n",
    " $\n",
    " $\n",
    " \\left[ {\\begin{array}{c}\n",
    "   x \\\\\n",
    "   y \\\\\n",
    "   z\\\\\n",
    "  \\end{array} } \\right]\n",
    "  $\n",
    "  $ =  \\left[ {\\begin{array}{c}\n",
    "   25 \\\\\n",
    "   31 \\\\\n",
    "   44\\\\\n",
    "  \\end{array} } \\right]\n",
    "  $\n",
    " \n",
    "and solve. "
   ]
  },
  {
   "cell_type": "code",
   "execution_count": 7,
   "metadata": {},
   "outputs": [
    {
     "name": "stdout",
     "output_type": "stream",
     "text": [
      "[[ 5.]\n",
      " [ 1.]\n",
      " [ 2.]]\n"
     ]
    }
   ],
   "source": [
    "# import tensorflow\n",
    "import tensorflow as tf\n",
    "\n",
    "# make the matrices in numpy\n",
    "A = np.matrix([\n",
    "    [3,2,4],\n",
    "    [4,5,3],\n",
    "    [5,7,6]\n",
    "]).astype('float64')\n",
    "\n",
    "B = np.matrix([\n",
    "    [25], [31], [44]\n",
    "]).astype('float64')\n",
    "\n",
    "# convert to tensors\n",
    "A_t = tf.convert_to_tensor(A)\n",
    "B_t = tf.convert_to_tensor(B)\n",
    "\n",
    "## the inverse, A^-1\n",
    "A_inv = tf.matrix_inverse(A_t)\n",
    "\n",
    "# the solution\n",
    "X = tf.matmul(A_inv, B)\n",
    "\n",
    "# Let's start a session \n",
    "# initialize the variables\n",
    "\n",
    "init = tf.global_variables_initializer()\n",
    "\n",
    "with tf.Session() as sess:\n",
    "    sess.run(init)\n",
    "    print(sess.run(X))"
   ]
  },
  {
   "cell_type": "markdown",
   "metadata": {},
   "source": [
    "That's the solution! $$ x = 5$$ $$ y = 1 $$ $$ z = 2 $$\n",
    "\n",
    "\n",
    "Now that we understand some of the basics of matrix math and `TensorFlow`, we can implement more complex solutions to different problems. "
   ]
  },
  {
   "cell_type": "markdown",
   "metadata": {},
   "source": [
    "\n",
    "\n",
    "<a id=\"sine\"></a>\n",
    "## III. Learning to `Sine` \n",
    "Now, we're going to move to some more advanced features. \n",
    "In this part, we're going to model a noisy sine curve. First, let's generate and visualize some synthetic data. \n"
   ]
  },
  {
   "cell_type": "code",
   "execution_count": 8,
   "metadata": {},
   "outputs": [
    {
     "data": {
      "image/png": "[encoded data removed]",
      "text/plain": [
       "<matplotlib.figure.Figure at 0x7f8f49032cf8>"
      ]
     },
     "metadata": {},
     "output_type": "display_data"
    }
   ],
   "source": [
    "xs = np.linspace(-.6*np.pi, .6*np.pi, 200)\n",
    "y1 = [np.sin(i) + .15*np.random.randn() for i in xs]\n",
    "y2 = np.sin(xs)\n",
    "plt.scatter(xs,y1,alpha=.65)\n",
    "plt.plot(xs,y2, c='m', linewidth=2.5, alpha=.5)\n",
    "plt.title(\"Sine curve segment with noise\")\n",
    "plt.show()"
   ]
  },
  {
   "cell_type": "markdown",
   "metadata": {},
   "source": [
    "Our goal is to build a **linear model** of the form $Y = WX + B$ that best approximates the  curve.\n",
    "\n",
    "First, we need to set up  <a href=\"https://www.tensorflow.org/api_docs/python/tf/placeholder\" target=\"_blank\" rel=\"noopener noreferrer\">placeholders</a> for our data. Later, when we begin our `session`, we'll `feed` the placeholders the `x` and `y` values from our dataset. "
   ]
  },
  {
   "cell_type": "code",
   "execution_count": 9,
   "metadata": {},
   "outputs": [],
   "source": [
    "x = tf.placeholder(tf.float64, name=\"x_data\")\n",
    "y = tf.placeholder(tf.float64, name=\"y_data\")"
   ]
  },
  {
   "cell_type": "markdown",
   "metadata": {},
   "source": [
    "We're trying to learn the values for $W$ and $B$ which minimize the square of the difference between our model's _predicted `y`_ value and the _actual `y`_ value. To accomplish this, we'll need to create a variable which stores these 2 values. We initialize this with random values. "
   ]
  },
  {
   "cell_type": "code",
   "execution_count": 10,
   "metadata": {},
   "outputs": [],
   "source": [
    "V = tf.Variable(tf.random_normal(shape=[2,1], dtype=tf.float64), name=\"values\", dtype=tf.float64)"
   ]
  },
  {
   "cell_type": "markdown",
   "metadata": {},
   "source": [
    "We're building a linear model. The steps we'll use are:\n",
    "1. Multiply the weights matrix, $V[0]$ by the $x$ value, and add the bias $V[1]$\n",
    "2. Calculate the error \n",
    "3. Optimize the weights with `Gradient Descent`  "
   ]
  },
  {
   "cell_type": "code",
   "execution_count": 11,
   "metadata": {},
   "outputs": [],
   "source": [
    "# linear model of the form y = wx + b\n",
    "predicted_y = tf.multiply(x, V[0]) + V[1]"
   ]
  },
  {
   "cell_type": "markdown",
   "metadata": {},
   "source": [
    "The learning algorithm we're going to use is  <a href=\"https://www.tensorflow.org/api_docs/python/tf/train/GradientDescentOptimizer\" target=\"_blank\" rel=\"noopener noreferrer\">Gradient Descent</a>. This algorithm will attempt to minimize the value produced by our error function, in our case it will be  the square of the difference between our model's predicted y value and the actual y value. "
   ]
  },
  {
   "cell_type": "code",
   "execution_count": 12,
   "metadata": {},
   "outputs": [],
   "source": [
    "err = tf.squared_difference(y, predicted_y)"
   ]
  },
  {
   "cell_type": "markdown",
   "metadata": {},
   "source": [
    "We define the optimization. "
   ]
  },
  {
   "cell_type": "code",
   "execution_count": 13,
   "metadata": {},
   "outputs": [],
   "source": [
    "optimizer = tf.train.GradientDescentOptimizer(0.01)\n",
    "train = optimizer.minimize(err)"
   ]
  },
  {
   "cell_type": "markdown",
   "metadata": {},
   "source": [
    "Just as before, we're going to initialize the varibales. "
   ]
  },
  {
   "cell_type": "code",
   "execution_count": 14,
   "metadata": {},
   "outputs": [],
   "source": [
    "init = tf.global_variables_initializer()"
   ]
  },
  {
   "cell_type": "markdown",
   "metadata": {},
   "source": [
    "Let's begin modeling. "
   ]
  },
  {
   "cell_type": "code",
   "execution_count": 15,
   "metadata": {
    "scrolled": false
   },
   "outputs": [
    {
     "name": "stdout",
     "output_type": "stream",
     "text": [
      "[[-0.29951299]\n",
      " [ 2.06935331]]\n",
      "[[ 0.71918819]\n",
      " [-0.06662754]]\n",
      "[[ 0.60561415]\n",
      " [-0.02220345]]\n",
      "[[ 0.70187589]\n",
      " [-0.07768129]]\n",
      "[[ 0.60554548]\n",
      " [-0.02209102]]\n"
     ]
    }
   ],
   "source": [
    "with tf.Session() as sess:\n",
    "    sess.run(init)\n",
    "    for i in range(2500):\n",
    "        x_data = xs[i%len(xs)]\n",
    "        y_data = y1[i%len(xs)]\n",
    "        # run the training step\n",
    "        sess.run(train, feed_dict={x:x_data, y:y_data})\n",
    "        \n",
    "        # check the weights every 100 iterations\n",
    "        if i%500==0: \n",
    "            print(sess.run(V))\n",
    "            # periodically assign to a normal python variable for use in the graph\n",
    "            v = sess.run(V)\n",
    "            "
   ]
  },
  {
   "cell_type": "markdown",
   "metadata": {},
   "source": [
    "Cool, now we've got a linear model close to $$ y = 0.605x - 0.022 $$ Let's plot this. "
   ]
  },
  {
   "cell_type": "code",
   "execution_count": 16,
   "metadata": {
    "scrolled": false
   },
   "outputs": [
    {
     "data": {
      "image/png": "[encoded data removed]",
      "text/plain": [
       "<matplotlib.figure.Figure at 0x7f8f444e16a0>"
      ]
     },
     "metadata": {},
     "output_type": "display_data"
    }
   ],
   "source": [
    "model_values = [(i*v[0] + v[1]) for i in xs]\n",
    "\n",
    "plt.title(\"Linear model\")\n",
    "plt.plot(xs, model_values, linewidth=1.5, c='orange', label='model')\n",
    "plt.plot(xs,y2, c='m', linewidth=.75, alpha=.5, label='sine')\n",
    "plt.legend()\n",
    "plt.show()"
   ]
  },
  {
   "cell_type": "markdown",
   "metadata": {},
   "source": [
    "You might not have realized it, but we just implemented `Linear Regression` in `TensorFlow`! The steps we used above can be generalized to other dimensions for $x$. Just as we generalized with the matrix math to a real world example, I encourage you to use the above blueprint for your linear regressions. Compare the results to other methods implemented in popular frameworks like python's `scikit-learn` or linear models in `R`. It's fun to generate a plot from the model's weights as the model is training. Another exercise you might consider is putting this code in the iteration loop. \n",
    "\n",
    "Look forward to Part Two, we're going to build a neural network that more accurately approximates a `Sine` curve."
   ]
  },
  {
   "cell_type": "markdown",
   "metadata": {},
   "source": [
    "___________\n",
    "### Author\n",
    "Adam Massachi is a Data Scientist with the Data Science Experience and Watson Data Platform teams at IBM. Before IBM, he worked on political campaigns, building and managing large volunteer operations and organizing campaign finance initiatives. Say hello @adammassach!\n",
    "\n",
    "### Citations\n",
    "${[1]}$ http://mathworld.wolfram.com/Tensor.html\n",
    "<br>\n",
    "${[2]}$ https://www.tensorflow.org/versions/r0.12/get_started/basic_usage#tensors\n",
    "\n",
    "<hr>\n",
    "Copyright &copy; IBM Corp. 2018. This notebook and its source code are released under the terms of the MIT License."
   ]
  }
 ],
 "metadata": {
  "kernelspec": {
   "display_name": "Python 3.5 (Experimental) with Spark 2.1",
   "language": "python",
   "name": "python3-spark21"
  },
  "language_info": {
   "codemirror_mode": {
    "name": "ipython",
    "version": 3
   },
   "file_extension": ".py",
   "mimetype": "text/x-python",
   "name": "python",
   "nbconvert_exporter": "python",
   "pygments_lexer": "ipython3",
   "version": "3.5.2"
  }
 },
 "nbformat": 4,
 "nbformat_minor": 1
}
